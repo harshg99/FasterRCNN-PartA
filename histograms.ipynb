{
 "cells": [
  {
   "cell_type": "markdown",
   "metadata": {},
   "source": []
  },
  {
   "cell_type": "code",
   "execution_count": 6,
   "metadata": {},
   "outputs": [],
   "source": [
    "import numpy as np\n",
    "from dataset import BuildDataset"
   ]
  },
  {
   "cell_type": "code",
   "execution_count": 2,
   "metadata": {},
   "outputs": [],
   "source": [
    "imgs_path = './data/hw3_mycocodata_img_comp_zlib.h5'\n",
    "masks_path = './data/hw3_mycocodata_mask_comp_zlib.h5'\n",
    "labels_path = './data/hw3_mycocodata_labels_comp_zlib.npy'\n",
    "bboxes_path = './data/hw3_mycocodata_bboxes_comp_zlib.npy'\n",
    "paths = [imgs_path, masks_path, labels_path, bboxes_path]\n",
    "# load the data into data.Dataset\n",
    "dataset = BuildDataset(paths)"
   ]
  },
  {
   "cell_type": "code",
   "execution_count": 3,
   "metadata": {},
   "outputs": [],
   "source": [
    "num_samples = len(dataset.bbox)\n",
    "scales = np.zeros(num_samples)\n",
    "ratios = np.zeros(num_samples)\n",
    "\n",
    "for i, bbox in enumerate(dataset.bbox):\n",
    "    [x1, y1, x2, y2] = bbox[0]\n",
    "    w = x2 - x1\n",
    "    h = y2 - y1\n",
    "    scales[i] = np.sqrt(w*h)\n",
    "    ratios[i] = w/h"
   ]
  },
  {
   "cell_type": "code",
   "execution_count": 7,
   "metadata": {},
   "outputs": [
    {
     "name": "stdout",
     "output_type": "stream",
     "text": [
      "Median Scale: 154.49417114257812\n"
     ]
    },
    {
     "data": {
      "image/png": "[encoded data removed]",
      "text/plain": [
       "<Figure size 432x288 with 1 Axes>"
      ]
     },
     "metadata": {
      "needs_background": "light"
     },
     "output_type": "display_data"
    }
   ],
   "source": [
    "import matplotlib.pyplot as plt\n",
    "\n",
    "print(f\"Median Scale: {np.median(scales)}\")\n",
    "plt.figure()\n",
    "plt.hist(scales, bins=20)\n",
    "plt.title(\"Histogram of Bounding Box Scales (n=20)\")\n",
    "plt.savefig(\"results/scale_histogram\")\n",
    "plt.show()"
   ]
  },
  {
   "cell_type": "code",
   "execution_count": 8,
   "metadata": {},
   "outputs": [
    {
     "name": "stdout",
     "output_type": "stream",
     "text": [
      "Median Ratio: 1.042075753211975\n"
     ]
    },
    {
     "data": {
      "image/png": "[encoded data removed]",
      "text/plain": [
       "<Figure size 432x288 with 1 Axes>"
      ]
     },
     "metadata": {
      "needs_background": "light"
     },
     "output_type": "display_data"
    }
   ],
   "source": [
    "print(f\"Median Ratio: {np.median(ratios)}\")\n",
    "plt.figure()\n",
    "plt.hist(ratios, bins=20)\n",
    "plt.title(\"Histogram of Bounding Box Ratios (n=20)\")\n",
    "plt.savefig(\"results/ratio_histogram\")\n",
    "plt.show()"
   ]
  },
  {
   "cell_type": "code",
   "execution_count": null,
   "metadata": {},
   "outputs": [],
   "source": []
  }
 ],
 "metadata": {
  "interpreter": {
   "hash": "57cf0d95191b185b2c352024c0993389a01e5b2f2162cd164dc2987b878f9edd"
  },
  "kernelspec": {
   "display_name": "Python 3.7.10 64-bit ('pytorch_venv': conda)",
   "name": "python3"
  },
  "language_info": {
   "codemirror_mode": {
    "name": "ipython",
    "version": 3
   },
   "file_extension": ".py",
   "mimetype": "text/x-python",
   "name": "python",
   "nbconvert_exporter": "python",
   "pygments_lexer": "ipython3",
   "version": "3.7.10"
  },
  "orig_nbformat": 4
 },
 "nbformat": 4,
 "nbformat_minor": 2
}
